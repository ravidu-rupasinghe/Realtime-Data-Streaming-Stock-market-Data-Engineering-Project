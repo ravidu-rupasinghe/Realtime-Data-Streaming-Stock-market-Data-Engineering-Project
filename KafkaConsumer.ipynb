{
 "cells": [
  {
   "cell_type": "code",
   "execution_count": null,
   "id": "b36713e0-3c7e-4ecc-b8a3-21a3a777d617",
   "metadata": {},
   "outputs": [],
   "source": [
    "pip install six\n"
   ]
  },
  {
   "cell_type": "code",
   "execution_count": null,
   "id": "3933ba55-2800-4fb0-bc1a-7277f3ac6aab",
   "metadata": {},
   "outputs": [],
   "source": [
    "pip install --upgrade kafka-python\n"
   ]
  },
  {
   "cell_type": "code",
   "execution_count": null,
   "id": "fcaed85b-8971-4222-97a7-f08d7681d34d",
   "metadata": {},
   "outputs": [],
   "source": [
    "pip install kafka-python==1.4.7\n"
   ]
  },
  {
   "cell_type": "code",
   "execution_count": null,
   "id": "8e0033c0-424f-4362-a038-f3ca8c318a31",
   "metadata": {},
   "outputs": [],
   "source": [
    "pip install confluent-kafka\n"
   ]
  },
  {
   "cell_type": "code",
   "execution_count": null,
   "id": "64a14659-ca92-452e-82c1-a411bca194e7",
   "metadata": {},
   "outputs": [],
   "source": [
    "from kafka import KafkaConsumer\n",
    "from time import sleep\n",
    "from json import dumps,loads\n",
    "import json\n"
   ]
  },
  {
   "cell_type": "code",
   "execution_count": null,
   "id": "ec27a2a5-08ad-45b0-ae07-110abb60acbf",
   "metadata": {},
   "outputs": [],
   "source": [
    "consumer = KafkaConsumer(\n",
    "    'demo_testing2',\n",
    "     bootstrap_servers=['3.93.0.210:9092'], #add your IP here\n",
    "    value_deserializer=lambda x: loads(x.decode('utf-8')))"
   ]
  },
  {
   "cell_type": "code",
   "execution_count": null,
   "id": "44543c50-4579-468a-9e84-f487f4442b77",
   "metadata": {},
   "outputs": [],
   "source": [
    " for c in consumer:\n",
    "     print(c.value)"
   ]
  },
  {
   "cell_type": "code",
   "execution_count": null,
   "id": "e160859a-0265-43c7-944b-7f9a879d8546",
   "metadata": {},
   "outputs": [],
   "source": [
    "s3 = S3FileSystem()"
   ]
  },
  {
   "cell_type": "code",
   "execution_count": null,
   "id": "6b2fe2dc-f788-4b5f-bdf5-df371fc24075",
   "metadata": {},
   "outputs": [],
   "source": [
    "for count, i in enumerate(consumer):\n",
    "    with s3.open(\"s3://kafka-stock-market-tutorial-youtube-darshil/stock_market_{}.json\".format(count), 'w') as file:\n",
    "        json.dump(i.value, file)   "
   ]
  }
 ],
 "metadata": {
  "kernelspec": {
   "display_name": "Python 3 (ipykernel)",
   "language": "python",
   "name": "python3"
  },
  "language_info": {
   "codemirror_mode": {
    "name": "ipython",
    "version": 3
   },
   "file_extension": ".py",
   "mimetype": "text/x-python",
   "name": "python",
   "nbconvert_exporter": "python",
   "pygments_lexer": "ipython3",
   "version": "3.12.3"
  }
 },
 "nbformat": 4,
 "nbformat_minor": 5
}
